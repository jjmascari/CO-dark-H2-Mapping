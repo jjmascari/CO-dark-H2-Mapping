{
 "cells": [
  {
   "cell_type": "code",
   "execution_count": null,
   "id": "b07bf991-c459-415e-babb-78a9e4c97833",
   "metadata": {},
   "outputs": [],
   "source": []
  },
  {
   "cell_type": "code",
   "execution_count": null,
   "id": "fcfbfa70-3d97-425b-a77c-5cbe70a3afd9",
   "metadata": {},
   "outputs": [],
   "source": [
    "# function to find metals to gas ratio\n",
    "def metal_to_gas_ratio(m_oh, log_OH, M_OH):\n",
    "    gradient = 10**(log_OH - 12)\n",
    "    ratio = m_oh * gradient / (1.36 * M_OH)\n",
    "    return ratio\n",
    "# Conversion from degrees to kpc\n",
    "r_kpc = r_grid * 14.8 \n",
    "# Atomic mass of oxygen\n",
    "m_oh = 16\n",
    "# Fraction of metals from oxygen\n",
    "M_OH = 0.445\n",
    "# Metallicity Gradient\n",
    "log_OH = 8.61 - (0.044 * r_kpc) \n",
    "# metals/gas fraction\n",
    "metals_ratio = metal_to_gas_ratio(m_oh, log_OH, M_OH)\n",
    "# Taking half of the metals to gas ratio to get a reasonable DGR\n",
    "DGR = metals_ratio * 0.5"
   ]
  }
 ],
 "metadata": {
  "kernelspec": {
   "display_name": "Python 3 (ipykernel)",
   "language": "python",
   "name": "python3"
  },
  "language_info": {
   "codemirror_mode": {
    "name": "ipython",
    "version": 3
   },
   "file_extension": ".py",
   "mimetype": "text/x-python",
   "name": "python",
   "nbconvert_exporter": "python",
   "pygments_lexer": "ipython3",
   "version": "3.12.4"
  }
 },
 "nbformat": 4,
 "nbformat_minor": 5
}
