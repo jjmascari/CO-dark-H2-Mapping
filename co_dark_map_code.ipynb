{
 "cells": [
  {
   "cell_type": "code",
   "execution_count": null,
   "id": "f45b7a61-855b-477b-a8f9-7ae714c30533",
   "metadata": {},
   "outputs": [],
   "source": [
    "import numpy as np\n",
    "from astropy.io import fits\n",
    "import matplotlib.pyplot as plt\n",
    "from astropy.io import ascii\n",
    "from astropy import wcs"
   ]
  },
  {
   "cell_type": "code",
   "execution_count": null,
   "id": "492cfd8b-c5fa-4374-9319-3076e049b5a1",
   "metadata": {},
   "outputs": [],
   "source": [
    "# import reprojected fits files\n",
    "dust = fits.open('dust_reproject.fits')\n",
    "co = fits.open('co_reproject.fits')\n",
    "HI = fits.open('HI_reproject.fits')\n",
    "\n",
    "# Mass Surface Density (M_sun/pc^-2) with log scale conversion\n",
    "dust_data = 10**(dust[4].data) / 3.2\n",
    "\n",
    "# Intensity (Kkm/s)\n",
    "co_data = co[0].data\n",
    "\n",
    "# Column density (cm^-2 Kkm/s)\n",
    "HI_data = HI[0].data \n",
    "\n",
    "#use the dust header\n",
    "hdr = dust.header"
   ]
  },
  {
   "cell_type": "code",
   "execution_count": null,
   "id": "b9d68493-e18f-4bd0-8f36-3162fdc69dfd",
   "metadata": {},
   "outputs": [],
   "source": [
    "NH_data = dust_data / DGR "
   ]
  },
  {
   "cell_type": "code",
   "execution_count": null,
   "id": "bb85c64d-bd9f-4ec9-8802-b9ea8f0ef360",
   "metadata": {},
   "outputs": [],
   "source": [
    "# For if you want to do a 3-sigma cut\n",
    "\n",
    "# Mask co_data where it's less than 0.5\n",
    "co_mask = co_data >= 0.5  # 0.3 from 3-sigma cut\n",
    "\n",
    "# Mask HI_data where it's less than 30e18\n",
    "hi_mask = HI_data >= 36e18  # 36e18 from 3-sigma cut stddev = 10 from intensity then scaled 1e18 when converted to column density\n",
    "\n",
    "# Appy masks to data\n",
    "co_data_snrcut = np.where(co_mask, co_data, np.nan) # Mask out invalid co data\n",
    "HI_data_snrcut = np.where(hi_mask, HI[0].data, np.nan)  # Mask out invalid HI data\n",
    "NH_data_snrcut = np.where(co_mask, NH_data, np.nan) # mask out invalid gas data"
   ]
  },
  {
   "cell_type": "code",
   "execution_count": null,
   "id": "737f57e9-1417-4330-bf39-a6ae98251b21",
   "metadata": {},
   "outputs": [],
   "source": [
    "# conversion from co(2-1) to co(1-0)\n",
    "co_10 = co_data_snrcut * 0.8\n",
    "# dust derived H2 and co traced H2\n",
    "total_h2 = (NH_data - HI_data_snrcut) / 2\n",
    "co_derived_h2 = co_10 * xfactor\n",
    "# co dark map\n",
    "co_dark_h2 = total_h2 - co_derived_h2"
   ]
  },
  {
   "cell_type": "code",
   "execution_count": null,
   "id": "d01b9f10-178f-43fe-9262-3e285554ab8c",
   "metadata": {},
   "outputs": [],
   "source": [
    "plt.style.use('dark_background')\n",
    "ax1 = plt.subplot(1,1,1, projection = WCS(hdr))\n",
    "\n",
    "# Display the first data set\n",
    "im1 = ax1.imshow(co_dark_h2[600:1250, 500:1000], cmap = 'inferno')\n",
    "cbar = plt.colorbar(im1, ax=ax1)  # Add color bar for the first subplot\n",
    "ax1.set_xlabel('Right Ascension', fontsize = 14)\n",
    "ax1.set_ylabel('Declination', fontsize = 14)\n",
    "ax1.set_title('\"CO-dark\" H2 Map', fontsize = 14)\n",
    "ax1.coords.grid(False)\n",
    "cbar.set_label(r'$N(\\mathrm{H})$ cm$^{-2}$',fontsize = 14)"
   ]
  }
 ],
 "metadata": {
  "kernelspec": {
   "display_name": "Python 3 (ipykernel)",
   "language": "python",
   "name": "python3"
  },
  "language_info": {
   "codemirror_mode": {
    "name": "ipython",
    "version": 3
   },
   "file_extension": ".py",
   "mimetype": "text/x-python",
   "name": "python",
   "nbconvert_exporter": "python",
   "pygments_lexer": "ipython3",
   "version": "3.12.4"
  }
 },
 "nbformat": 4,
 "nbformat_minor": 5
}
