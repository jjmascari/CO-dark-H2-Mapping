{
 "cells": [
  {
   "cell_type": "code",
   "execution_count": 1,
   "id": "f45b7a61-855b-477b-a8f9-7ae714c30533",
   "metadata": {},
   "outputs": [],
   "source": [
    "import numpy as np\n",
    "from astropy.io import fits\n",
    "import matplotlib.pyplot as plt\n",
    "from astropy.io import ascii\n",
    "from astropy import wcs"
   ]
  },
  {
   "cell_type": "code",
   "execution_count": 5,
   "id": "492cfd8b-c5fa-4374-9319-3076e049b5a1",
   "metadata": {},
   "outputs": [
    {
     "ename": "FileNotFoundError",
     "evalue": "[Errno 2] No such file or directory: 'dust_reproject.fits'",
     "output_type": "error",
     "traceback": [
      "\u001b[1;31m---------------------------------------------------------------------------\u001b[0m",
      "\u001b[1;31mFileNotFoundError\u001b[0m                         Traceback (most recent call last)",
      "Cell \u001b[1;32mIn[5], line 2\u001b[0m\n\u001b[0;32m      1\u001b[0m \u001b[38;5;66;03m# import reprojected fits files\u001b[39;00m\n\u001b[1;32m----> 2\u001b[0m dust \u001b[38;5;241m=\u001b[39m fits\u001b[38;5;241m.\u001b[39mopen(\u001b[38;5;124m'\u001b[39m\u001b[38;5;124mdust_reproject.fits\u001b[39m\u001b[38;5;124m'\u001b[39m)\n\u001b[0;32m      3\u001b[0m co \u001b[38;5;241m=\u001b[39m fits\u001b[38;5;241m.\u001b[39mopen(\u001b[38;5;124m'\u001b[39m\u001b[38;5;124mco_reproject.fits\u001b[39m\u001b[38;5;124m'\u001b[39m)\n\u001b[0;32m      4\u001b[0m HI \u001b[38;5;241m=\u001b[39m fits\u001b[38;5;241m.\u001b[39mopen(\u001b[38;5;124m'\u001b[39m\u001b[38;5;124mHI_reproject.fits\u001b[39m\u001b[38;5;124m'\u001b[39m)\n",
      "File \u001b[1;32m~\\anaconda3\\Lib\\site-packages\\astropy\\io\\fits\\hdu\\hdulist.py:222\u001b[0m, in \u001b[0;36mfitsopen\u001b[1;34m(name, mode, memmap, save_backup, cache, lazy_load_hdus, ignore_missing_simple, use_fsspec, fsspec_kwargs, decompress_in_memory, **kwargs)\u001b[0m\n\u001b[0;32m    219\u001b[0m \u001b[38;5;28;01mif\u001b[39;00m \u001b[38;5;129;01mnot\u001b[39;00m name:\n\u001b[0;32m    220\u001b[0m     \u001b[38;5;28;01mraise\u001b[39;00m \u001b[38;5;167;01mValueError\u001b[39;00m(\u001b[38;5;124mf\u001b[39m\u001b[38;5;124m\"\u001b[39m\u001b[38;5;124mEmpty filename: \u001b[39m\u001b[38;5;132;01m{\u001b[39;00mname\u001b[38;5;132;01m!r}\u001b[39;00m\u001b[38;5;124m\"\u001b[39m)\n\u001b[1;32m--> 222\u001b[0m \u001b[38;5;28;01mreturn\u001b[39;00m HDUList\u001b[38;5;241m.\u001b[39mfromfile(\n\u001b[0;32m    223\u001b[0m     name,\n\u001b[0;32m    224\u001b[0m     mode,\n\u001b[0;32m    225\u001b[0m     memmap,\n\u001b[0;32m    226\u001b[0m     save_backup,\n\u001b[0;32m    227\u001b[0m     cache,\n\u001b[0;32m    228\u001b[0m     lazy_load_hdus,\n\u001b[0;32m    229\u001b[0m     ignore_missing_simple,\n\u001b[0;32m    230\u001b[0m     use_fsspec\u001b[38;5;241m=\u001b[39muse_fsspec,\n\u001b[0;32m    231\u001b[0m     fsspec_kwargs\u001b[38;5;241m=\u001b[39mfsspec_kwargs,\n\u001b[0;32m    232\u001b[0m     decompress_in_memory\u001b[38;5;241m=\u001b[39mdecompress_in_memory,\n\u001b[0;32m    233\u001b[0m     \u001b[38;5;241m*\u001b[39m\u001b[38;5;241m*\u001b[39mkwargs,\n\u001b[0;32m    234\u001b[0m )\n",
      "File \u001b[1;32m~\\anaconda3\\Lib\\site-packages\\astropy\\io\\fits\\hdu\\hdulist.py:486\u001b[0m, in \u001b[0;36mHDUList.fromfile\u001b[1;34m(cls, fileobj, mode, memmap, save_backup, cache, lazy_load_hdus, ignore_missing_simple, **kwargs)\u001b[0m\n\u001b[0;32m    467\u001b[0m \u001b[38;5;129m@classmethod\u001b[39m\n\u001b[0;32m    468\u001b[0m \u001b[38;5;28;01mdef\u001b[39;00m \u001b[38;5;21mfromfile\u001b[39m(\n\u001b[0;32m    469\u001b[0m     \u001b[38;5;28mcls\u001b[39m,\n\u001b[1;32m   (...)\u001b[0m\n\u001b[0;32m    477\u001b[0m     \u001b[38;5;241m*\u001b[39m\u001b[38;5;241m*\u001b[39mkwargs,\n\u001b[0;32m    478\u001b[0m ):\n\u001b[0;32m    479\u001b[0m \u001b[38;5;250m    \u001b[39m\u001b[38;5;124;03m\"\"\"\u001b[39;00m\n\u001b[0;32m    480\u001b[0m \u001b[38;5;124;03m    Creates an `HDUList` instance from a file-like object.\u001b[39;00m\n\u001b[0;32m    481\u001b[0m \n\u001b[1;32m   (...)\u001b[0m\n\u001b[0;32m    484\u001b[0m \u001b[38;5;124;03m    documentation for details of the parameters accepted by this method).\u001b[39;00m\n\u001b[0;32m    485\u001b[0m \u001b[38;5;124;03m    \"\"\"\u001b[39;00m\n\u001b[1;32m--> 486\u001b[0m     \u001b[38;5;28;01mreturn\u001b[39;00m \u001b[38;5;28mcls\u001b[39m\u001b[38;5;241m.\u001b[39m_readfrom(\n\u001b[0;32m    487\u001b[0m         fileobj\u001b[38;5;241m=\u001b[39mfileobj,\n\u001b[0;32m    488\u001b[0m         mode\u001b[38;5;241m=\u001b[39mmode,\n\u001b[0;32m    489\u001b[0m         memmap\u001b[38;5;241m=\u001b[39mmemmap,\n\u001b[0;32m    490\u001b[0m         save_backup\u001b[38;5;241m=\u001b[39msave_backup,\n\u001b[0;32m    491\u001b[0m         cache\u001b[38;5;241m=\u001b[39mcache,\n\u001b[0;32m    492\u001b[0m         ignore_missing_simple\u001b[38;5;241m=\u001b[39mignore_missing_simple,\n\u001b[0;32m    493\u001b[0m         lazy_load_hdus\u001b[38;5;241m=\u001b[39mlazy_load_hdus,\n\u001b[0;32m    494\u001b[0m         \u001b[38;5;241m*\u001b[39m\u001b[38;5;241m*\u001b[39mkwargs,\n\u001b[0;32m    495\u001b[0m     )\n",
      "File \u001b[1;32m~\\anaconda3\\Lib\\site-packages\\astropy\\io\\fits\\hdu\\hdulist.py:1168\u001b[0m, in \u001b[0;36mHDUList._readfrom\u001b[1;34m(cls, fileobj, data, mode, memmap, cache, lazy_load_hdus, ignore_missing_simple, use_fsspec, fsspec_kwargs, decompress_in_memory, **kwargs)\u001b[0m\n\u001b[0;32m   1165\u001b[0m \u001b[38;5;28;01mif\u001b[39;00m fileobj \u001b[38;5;129;01mis\u001b[39;00m \u001b[38;5;129;01mnot\u001b[39;00m \u001b[38;5;28;01mNone\u001b[39;00m:\n\u001b[0;32m   1166\u001b[0m     \u001b[38;5;28;01mif\u001b[39;00m \u001b[38;5;129;01mnot\u001b[39;00m \u001b[38;5;28misinstance\u001b[39m(fileobj, _File):\n\u001b[0;32m   1167\u001b[0m         \u001b[38;5;66;03m# instantiate a FITS file object (ffo)\u001b[39;00m\n\u001b[1;32m-> 1168\u001b[0m         fileobj \u001b[38;5;241m=\u001b[39m _File(\n\u001b[0;32m   1169\u001b[0m             fileobj,\n\u001b[0;32m   1170\u001b[0m             mode\u001b[38;5;241m=\u001b[39mmode,\n\u001b[0;32m   1171\u001b[0m             memmap\u001b[38;5;241m=\u001b[39mmemmap,\n\u001b[0;32m   1172\u001b[0m             cache\u001b[38;5;241m=\u001b[39mcache,\n\u001b[0;32m   1173\u001b[0m             use_fsspec\u001b[38;5;241m=\u001b[39muse_fsspec,\n\u001b[0;32m   1174\u001b[0m             fsspec_kwargs\u001b[38;5;241m=\u001b[39mfsspec_kwargs,\n\u001b[0;32m   1175\u001b[0m             decompress_in_memory\u001b[38;5;241m=\u001b[39mdecompress_in_memory,\n\u001b[0;32m   1176\u001b[0m         )\n\u001b[0;32m   1177\u001b[0m     \u001b[38;5;66;03m# The Astropy mode is determined by the _File initializer if the\u001b[39;00m\n\u001b[0;32m   1178\u001b[0m     \u001b[38;5;66;03m# supplied mode was None\u001b[39;00m\n\u001b[0;32m   1179\u001b[0m     mode \u001b[38;5;241m=\u001b[39m fileobj\u001b[38;5;241m.\u001b[39mmode\n",
      "File \u001b[1;32m~\\anaconda3\\Lib\\site-packages\\astropy\\io\\fits\\file.py:218\u001b[0m, in \u001b[0;36m_File.__init__\u001b[1;34m(self, fileobj, mode, memmap, overwrite, cache, use_fsspec, fsspec_kwargs, decompress_in_memory)\u001b[0m\n\u001b[0;32m    216\u001b[0m     \u001b[38;5;28mself\u001b[39m\u001b[38;5;241m.\u001b[39m_open_fileobj(fileobj, mode, overwrite)\n\u001b[0;32m    217\u001b[0m \u001b[38;5;28;01melif\u001b[39;00m \u001b[38;5;28misinstance\u001b[39m(fileobj, (\u001b[38;5;28mstr\u001b[39m, \u001b[38;5;28mbytes\u001b[39m)):\n\u001b[1;32m--> 218\u001b[0m     \u001b[38;5;28mself\u001b[39m\u001b[38;5;241m.\u001b[39m_open_filename(fileobj, mode, overwrite)\n\u001b[0;32m    219\u001b[0m \u001b[38;5;28;01melse\u001b[39;00m:\n\u001b[0;32m    220\u001b[0m     \u001b[38;5;28mself\u001b[39m\u001b[38;5;241m.\u001b[39m_open_filelike(fileobj, mode, overwrite)\n",
      "File \u001b[1;32m~\\anaconda3\\Lib\\site-packages\\astropy\\io\\fits\\file.py:651\u001b[0m, in \u001b[0;36m_File._open_filename\u001b[1;34m(self, filename, mode, overwrite)\u001b[0m\n\u001b[0;32m    648\u001b[0m ext \u001b[38;5;241m=\u001b[39m os\u001b[38;5;241m.\u001b[39mpath\u001b[38;5;241m.\u001b[39msplitext(\u001b[38;5;28mself\u001b[39m\u001b[38;5;241m.\u001b[39mname)[\u001b[38;5;241m1\u001b[39m]\n\u001b[0;32m    650\u001b[0m \u001b[38;5;28;01mif\u001b[39;00m \u001b[38;5;129;01mnot\u001b[39;00m \u001b[38;5;28mself\u001b[39m\u001b[38;5;241m.\u001b[39m_try_read_compressed(\u001b[38;5;28mself\u001b[39m\u001b[38;5;241m.\u001b[39mname, magic, mode, ext\u001b[38;5;241m=\u001b[39mext):\n\u001b[1;32m--> 651\u001b[0m     \u001b[38;5;28mself\u001b[39m\u001b[38;5;241m.\u001b[39m_file \u001b[38;5;241m=\u001b[39m \u001b[38;5;28mopen\u001b[39m(\u001b[38;5;28mself\u001b[39m\u001b[38;5;241m.\u001b[39mname, IO_FITS_MODES[mode])\n\u001b[0;32m    652\u001b[0m     \u001b[38;5;28mself\u001b[39m\u001b[38;5;241m.\u001b[39mclose_on_error \u001b[38;5;241m=\u001b[39m \u001b[38;5;28;01mTrue\u001b[39;00m\n\u001b[0;32m    654\u001b[0m \u001b[38;5;66;03m# Make certain we're back at the beginning of the file\u001b[39;00m\n\u001b[0;32m    655\u001b[0m \u001b[38;5;66;03m# BZ2File does not support seek when the file is open for writing, but\u001b[39;00m\n\u001b[0;32m    656\u001b[0m \u001b[38;5;66;03m# when opening a file for write, bz2.BZ2File always truncates anyway.\u001b[39;00m\n",
      "\u001b[1;31mFileNotFoundError\u001b[0m: [Errno 2] No such file or directory: 'dust_reproject.fits'"
     ]
    }
   ],
   "source": [
    "# import reprojected fits files\n",
    "dust = fits.open('dust_reproject.fits')\n",
    "co = fits.open('co_reproject.fits')\n",
    "HI = fits.open('HI_reproject.fits')\n",
    "\n",
    "# Mass Surface Density (M_sun/pc^-2) with log scale conversion\n",
    "dust_data = 10**(dust[4].data) / 3.2\n",
    "\n",
    "# Intensity (Kkm/s)\n",
    "co_data = co[0].data\n",
    "\n",
    "# Column density (cm^-2 Kkm/s)\n",
    "HI_data = HI[0].data \n",
    "\n",
    "#use the dust header\n",
    "hdr = dust.header"
   ]
  },
  {
   "cell_type": "code",
   "execution_count": null,
   "id": "b9d68493-e18f-4bd0-8f36-3162fdc69dfd",
   "metadata": {},
   "outputs": [],
   "source": [
    "NH_data = dust_data / DGR "
   ]
  },
  {
   "cell_type": "code",
   "execution_count": 3,
   "id": "bb85c64d-bd9f-4ec9-8802-b9ea8f0ef360",
   "metadata": {},
   "outputs": [
    {
     "ename": "NameError",
     "evalue": "name 'co_data' is not defined",
     "output_type": "error",
     "traceback": [
      "\u001b[1;31m---------------------------------------------------------------------------\u001b[0m",
      "\u001b[1;31mNameError\u001b[0m                                 Traceback (most recent call last)",
      "Cell \u001b[1;32mIn[3], line 4\u001b[0m\n\u001b[0;32m      1\u001b[0m \u001b[38;5;66;03m# For if you want to do a 3-sigma cut\u001b[39;00m\n\u001b[0;32m      2\u001b[0m \n\u001b[0;32m      3\u001b[0m \u001b[38;5;66;03m# Mask co_data where it's less than 0.5\u001b[39;00m\n\u001b[1;32m----> 4\u001b[0m co_mask \u001b[38;5;241m=\u001b[39m co_data \u001b[38;5;241m>\u001b[39m\u001b[38;5;241m=\u001b[39m \u001b[38;5;241m0.5\u001b[39m  \u001b[38;5;66;03m# 0.3 from 3-sigma cut\u001b[39;00m\n\u001b[0;32m      6\u001b[0m \u001b[38;5;66;03m# Mask HI_data where it's less than 30e18\u001b[39;00m\n\u001b[0;32m      7\u001b[0m hi_mask \u001b[38;5;241m=\u001b[39m HI_data \u001b[38;5;241m>\u001b[39m\u001b[38;5;241m=\u001b[39m \u001b[38;5;241m36e18\u001b[39m  \u001b[38;5;66;03m# 36e18 from 3-sigma cut stddev = 10 from intensity then scaled 1e18 when converted to column density\u001b[39;00m\n",
      "\u001b[1;31mNameError\u001b[0m: name 'co_data' is not defined"
     ]
    }
   ],
   "source": [
    "# For if you want to do a 3-sigma cut\n",
    "\n",
    "# Mask co_data where it's less than 0.5\n",
    "co_mask = co_data >= 0.5  # 0.3 from 3-sigma cut\n",
    "\n",
    "# Mask HI_data where it's less than 30e18\n",
    "hi_mask = HI_data >= 36e18  # 36e18 from 3-sigma cut stddev = 10 from intensity then scaled 1e18 when converted to column density\n",
    "\n",
    "# Appy masks to data\n",
    "co_data_snrcut = np.where(co_mask, co_data, np.nan) # Mask out invalid co data\n",
    "HI_data_snrcut = np.where(hi_mask, HI[0].data, np.nan)  # Mask out invalid HI data\n",
    "NH_data_snrcut = np.where(co_mask, NH_data, np.nan) # mask out invalid gas data"
   ]
  },
  {
   "cell_type": "code",
   "execution_count": null,
   "id": "737f57e9-1417-4330-bf39-a6ae98251b21",
   "metadata": {},
   "outputs": [],
   "source": [
    "# conversion from co(2-1) to co(1-0)\n",
    "co_10 = co_data_snrcut * 0.8\n",
    "# dust derived H2 and co traced H2\n",
    "total_h2 = (NH_data - HI_data_snrcut) / 2\n",
    "co_derived_h2 = co_10 * xfactor\n",
    "# co dark map\n",
    "co_dark_h2 = total_h2 - co_derived_h2"
   ]
  },
  {
   "cell_type": "code",
   "execution_count": null,
   "id": "d01b9f10-178f-43fe-9262-3e285554ab8c",
   "metadata": {},
   "outputs": [],
   "source": [
    "plt.style.use('dark_background')\n",
    "ax1 = plt.subplot(1,1,1, projection = WCS(hdr))\n",
    "\n",
    "# Display the first data set\n",
    "im1 = ax1.imshow(co_dark_h2[600:1250, 500:1000], cmap = 'inferno')\n",
    "cbar = plt.colorbar(im1, ax=ax1)  # Add color bar for the first subplot\n",
    "ax1.set_xlabel('Right Ascension', fontsize = 14)\n",
    "ax1.set_ylabel('Declination', fontsize = 14)\n",
    "ax1.set_title('\"CO-dark\" H2 Map', fontsize = 14)\n",
    "ax1.coords.grid(False)\n",
    "cbar.set_label(r'$N(\\mathrm{H})$ cm$^{-2}$',fontsize = 14)"
   ]
  }
 ],
 "metadata": {
  "kernelspec": {
   "display_name": "Python 3 (ipykernel)",
   "language": "python",
   "name": "python3"
  },
  "language_info": {
   "codemirror_mode": {
    "name": "ipython",
    "version": 3
   },
   "file_extension": ".py",
   "mimetype": "text/x-python",
   "name": "python",
   "nbconvert_exporter": "python",
   "pygments_lexer": "ipython3",
   "version": "3.12.4"
  }
 },
 "nbformat": 4,
 "nbformat_minor": 5
}
