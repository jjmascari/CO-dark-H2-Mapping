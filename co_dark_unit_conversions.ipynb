{
 "cells": [
  {
   "cell_type": "code",
   "execution_count": 3,
   "id": "d6721666-2b9c-455a-89f6-d0df5dc9dcf5",
   "metadata": {},
   "outputs": [],
   "source": [
    "from astropy import constants as c\n",
    "from astropy import units as u\n",
    "import numpy as np"
   ]
  },
  {
   "cell_type": "code",
   "execution_count": 5,
   "id": "066dbc5a-85fd-4475-a9c5-58b4cc8850e1",
   "metadata": {},
   "outputs": [
    {
     "name": "stdout",
     "output_type": "stream",
     "text": [
      "4788.452460043275\n",
      "0.0002088357372960037\n",
      "1.67262192369e-24 g\n",
      "4788.452460043275\n",
      "0.0002088357372960037\n"
     ]
    }
   ],
   "source": [
    "# mass of proton used to approximate mass of H atom\n",
    "proton_mass = c.m_p.to(u.g)\n",
    "\n",
    "# conversion factor for g/cm^2 to M_sun/pc^2\n",
    "grams_per_cm_squared = u.g/u.cm**2\n",
    "gcm_conversion = grams_per_cm_squared.to(u.M_sun/u.pc**2)\n",
    "\n",
    "# conversion factor for M_sun/pc^2 to g/cm^2\n",
    "m_sun_per_pc_squared = u.M_sun/u.pc**2\n",
    "smpc_conversion = m_sun_per_pc_squared.to(u.g/u.cm**2)\n",
    "\n",
    "# conversion from column density to mass surface density for x-factor (X_co - alpha_co)\n",
    "cd_to_msd = 4.6e19\n",
    "\n",
    "print(gcm_conversion)\n",
    "print(smpc_conversion)\n",
    "print(proton_mass)\n",
    "\n",
    "# conversion factors for sm/pc^2 and g/cm^2\n",
    "gcm_to_smpc = 4788.452460043275\n",
    "smpc_to_gcm = 0.0002088357372960037\n",
    "m_p = 1.67262192369e-24\n",
    "print(gcm_to_smpc)\n",
    "print(smpc_to_gcm)"
   ]
  },
  {
   "cell_type": "code",
   "execution_count": null,
   "id": "a86cef05-84dc-480a-aea8-bded6419ff80",
   "metadata": {},
   "outputs": [],
   "source": []
  }
 ],
 "metadata": {
  "kernelspec": {
   "display_name": "Python 3 (ipykernel)",
   "language": "python",
   "name": "python3"
  },
  "language_info": {
   "codemirror_mode": {
    "name": "ipython",
    "version": 3
   },
   "file_extension": ".py",
   "mimetype": "text/x-python",
   "name": "python",
   "nbconvert_exporter": "python",
   "pygments_lexer": "ipython3",
   "version": "3.12.4"
  }
 },
 "nbformat": 4,
 "nbformat_minor": 5
}
