{
 "cells": [
  {
   "cell_type": "code",
   "execution_count": 15,
   "id": "e757457f-58b1-4d98-ad92-3a8b8cf9f01e",
   "metadata": {},
   "outputs": [],
   "source": [
    "from reproject import reproject_interp\n",
    "from astropy.io import fits\n",
    "import matplotlib.pyplot as plt\n",
    "from astropy.io import ascii\n",
    "from astropy import wcs\n",
    "from astropy.utils.data import get_pkg_data_filename"
   ]
  },
  {
   "cell_type": "code",
   "execution_count": 17,
   "id": "a588055d-69cd-44b0-ae85-d782295e0b3b",
   "metadata": {},
   "outputs": [
    {
     "ename": "URLError",
     "evalue": "<urlopen error Unable to open any source! Exceptions were {'http://data.astropy.org/HI_file.fits': <HTTPError 404: 'Not Found'>, 'http://www.astropy.org/astropy-data/HI_file.fits': <HTTPError 404: 'Not Found'>}>",
     "output_type": "error",
     "traceback": [
      "\u001b[1;31m---------------------------------------------------------------------------\u001b[0m",
      "\u001b[1;31mHTTPError\u001b[0m                                 Traceback (most recent call last)",
      "File \u001b[1;32m~\\anaconda3\\Lib\\site-packages\\astropy\\utils\\data.py:1531\u001b[0m, in \u001b[0;36mdownload_file\u001b[1;34m(remote_url, cache, show_progress, timeout, sources, pkgname, http_headers, ssl_context, allow_insecure)\u001b[0m\n\u001b[0;32m   1530\u001b[0m \u001b[38;5;28;01mtry\u001b[39;00m:\n\u001b[1;32m-> 1531\u001b[0m     f_name \u001b[38;5;241m=\u001b[39m _download_file_from_source(\n\u001b[0;32m   1532\u001b[0m         source_url,\n\u001b[0;32m   1533\u001b[0m         timeout\u001b[38;5;241m=\u001b[39mtimeout,\n\u001b[0;32m   1534\u001b[0m         show_progress\u001b[38;5;241m=\u001b[39mshow_progress,\n\u001b[0;32m   1535\u001b[0m         cache\u001b[38;5;241m=\u001b[39mcache,\n\u001b[0;32m   1536\u001b[0m         remote_url\u001b[38;5;241m=\u001b[39mremote_url,\n\u001b[0;32m   1537\u001b[0m         pkgname\u001b[38;5;241m=\u001b[39mpkgname,\n\u001b[0;32m   1538\u001b[0m         http_headers\u001b[38;5;241m=\u001b[39mhttp_headers,\n\u001b[0;32m   1539\u001b[0m         ssl_context\u001b[38;5;241m=\u001b[39mssl_context,\n\u001b[0;32m   1540\u001b[0m         allow_insecure\u001b[38;5;241m=\u001b[39mallow_insecure,\n\u001b[0;32m   1541\u001b[0m     )\n\u001b[0;32m   1542\u001b[0m     \u001b[38;5;66;03m# Success!\u001b[39;00m\n",
      "File \u001b[1;32m~\\anaconda3\\Lib\\site-packages\\astropy\\utils\\data.py:1315\u001b[0m, in \u001b[0;36m_download_file_from_source\u001b[1;34m(source_url, show_progress, timeout, remote_url, cache, pkgname, http_headers, ftp_tls, ssl_context, allow_insecure)\u001b[0m\n\u001b[0;32m   1313\u001b[0m             \u001b[38;5;28;01mraise\u001b[39;00m\n\u001b[1;32m-> 1315\u001b[0m \u001b[38;5;28;01mwith\u001b[39;00m _try_url_open(\n\u001b[0;32m   1316\u001b[0m     source_url,\n\u001b[0;32m   1317\u001b[0m     timeout\u001b[38;5;241m=\u001b[39mtimeout,\n\u001b[0;32m   1318\u001b[0m     http_headers\u001b[38;5;241m=\u001b[39mhttp_headers,\n\u001b[0;32m   1319\u001b[0m     ftp_tls\u001b[38;5;241m=\u001b[39mftp_tls,\n\u001b[0;32m   1320\u001b[0m     ssl_context\u001b[38;5;241m=\u001b[39mssl_context,\n\u001b[0;32m   1321\u001b[0m     allow_insecure\u001b[38;5;241m=\u001b[39mallow_insecure,\n\u001b[0;32m   1322\u001b[0m ) \u001b[38;5;28;01mas\u001b[39;00m remote:\n\u001b[0;32m   1323\u001b[0m     info \u001b[38;5;241m=\u001b[39m remote\u001b[38;5;241m.\u001b[39minfo()\n",
      "File \u001b[1;32m~\\anaconda3\\Lib\\site-packages\\astropy\\utils\\data.py:1229\u001b[0m, in \u001b[0;36m_try_url_open\u001b[1;34m(source_url, timeout, http_headers, ftp_tls, ssl_context, allow_insecure)\u001b[0m\n\u001b[0;32m   1228\u001b[0m \u001b[38;5;28;01mtry\u001b[39;00m:\n\u001b[1;32m-> 1229\u001b[0m     \u001b[38;5;28;01mreturn\u001b[39;00m urlopener\u001b[38;5;241m.\u001b[39mopen(req, timeout\u001b[38;5;241m=\u001b[39mtimeout)\n\u001b[0;32m   1230\u001b[0m \u001b[38;5;28;01mexcept\u001b[39;00m urllib\u001b[38;5;241m.\u001b[39merror\u001b[38;5;241m.\u001b[39mURLError \u001b[38;5;28;01mas\u001b[39;00m exc:\n",
      "File \u001b[1;32m~\\anaconda3\\Lib\\urllib\\request.py:521\u001b[0m, in \u001b[0;36mOpenerDirector.open\u001b[1;34m(self, fullurl, data, timeout)\u001b[0m\n\u001b[0;32m    520\u001b[0m     meth \u001b[38;5;241m=\u001b[39m \u001b[38;5;28mgetattr\u001b[39m(processor, meth_name)\n\u001b[1;32m--> 521\u001b[0m     response \u001b[38;5;241m=\u001b[39m meth(req, response)\n\u001b[0;32m    523\u001b[0m \u001b[38;5;28;01mreturn\u001b[39;00m response\n",
      "File \u001b[1;32m~\\anaconda3\\Lib\\urllib\\request.py:630\u001b[0m, in \u001b[0;36mHTTPErrorProcessor.http_response\u001b[1;34m(self, request, response)\u001b[0m\n\u001b[0;32m    629\u001b[0m \u001b[38;5;28;01mif\u001b[39;00m \u001b[38;5;129;01mnot\u001b[39;00m (\u001b[38;5;241m200\u001b[39m \u001b[38;5;241m<\u001b[39m\u001b[38;5;241m=\u001b[39m code \u001b[38;5;241m<\u001b[39m \u001b[38;5;241m300\u001b[39m):\n\u001b[1;32m--> 630\u001b[0m     response \u001b[38;5;241m=\u001b[39m \u001b[38;5;28mself\u001b[39m\u001b[38;5;241m.\u001b[39mparent\u001b[38;5;241m.\u001b[39merror(\n\u001b[0;32m    631\u001b[0m         \u001b[38;5;124m'\u001b[39m\u001b[38;5;124mhttp\u001b[39m\u001b[38;5;124m'\u001b[39m, request, response, code, msg, hdrs)\n\u001b[0;32m    633\u001b[0m \u001b[38;5;28;01mreturn\u001b[39;00m response\n",
      "File \u001b[1;32m~\\anaconda3\\Lib\\urllib\\request.py:553\u001b[0m, in \u001b[0;36mOpenerDirector.error\u001b[1;34m(self, proto, *args)\u001b[0m\n\u001b[0;32m    552\u001b[0m args \u001b[38;5;241m=\u001b[39m (\u001b[38;5;28mdict\u001b[39m, proto, meth_name) \u001b[38;5;241m+\u001b[39m args\n\u001b[1;32m--> 553\u001b[0m result \u001b[38;5;241m=\u001b[39m \u001b[38;5;28mself\u001b[39m\u001b[38;5;241m.\u001b[39m_call_chain(\u001b[38;5;241m*\u001b[39margs)\n\u001b[0;32m    554\u001b[0m \u001b[38;5;28;01mif\u001b[39;00m result:\n",
      "File \u001b[1;32m~\\anaconda3\\Lib\\urllib\\request.py:492\u001b[0m, in \u001b[0;36mOpenerDirector._call_chain\u001b[1;34m(self, chain, kind, meth_name, *args)\u001b[0m\n\u001b[0;32m    491\u001b[0m func \u001b[38;5;241m=\u001b[39m \u001b[38;5;28mgetattr\u001b[39m(handler, meth_name)\n\u001b[1;32m--> 492\u001b[0m result \u001b[38;5;241m=\u001b[39m func(\u001b[38;5;241m*\u001b[39margs)\n\u001b[0;32m    493\u001b[0m \u001b[38;5;28;01mif\u001b[39;00m result \u001b[38;5;129;01mis\u001b[39;00m \u001b[38;5;129;01mnot\u001b[39;00m \u001b[38;5;28;01mNone\u001b[39;00m:\n",
      "File \u001b[1;32m~\\anaconda3\\Lib\\urllib\\request.py:745\u001b[0m, in \u001b[0;36mHTTPRedirectHandler.http_error_302\u001b[1;34m(self, req, fp, code, msg, headers)\u001b[0m\n\u001b[0;32m    743\u001b[0m fp\u001b[38;5;241m.\u001b[39mclose()\n\u001b[1;32m--> 745\u001b[0m \u001b[38;5;28;01mreturn\u001b[39;00m \u001b[38;5;28mself\u001b[39m\u001b[38;5;241m.\u001b[39mparent\u001b[38;5;241m.\u001b[39mopen(new, timeout\u001b[38;5;241m=\u001b[39mreq\u001b[38;5;241m.\u001b[39mtimeout)\n",
      "File \u001b[1;32m~\\anaconda3\\Lib\\urllib\\request.py:521\u001b[0m, in \u001b[0;36mOpenerDirector.open\u001b[1;34m(self, fullurl, data, timeout)\u001b[0m\n\u001b[0;32m    520\u001b[0m     meth \u001b[38;5;241m=\u001b[39m \u001b[38;5;28mgetattr\u001b[39m(processor, meth_name)\n\u001b[1;32m--> 521\u001b[0m     response \u001b[38;5;241m=\u001b[39m meth(req, response)\n\u001b[0;32m    523\u001b[0m \u001b[38;5;28;01mreturn\u001b[39;00m response\n",
      "File \u001b[1;32m~\\anaconda3\\Lib\\urllib\\request.py:630\u001b[0m, in \u001b[0;36mHTTPErrorProcessor.http_response\u001b[1;34m(self, request, response)\u001b[0m\n\u001b[0;32m    629\u001b[0m \u001b[38;5;28;01mif\u001b[39;00m \u001b[38;5;129;01mnot\u001b[39;00m (\u001b[38;5;241m200\u001b[39m \u001b[38;5;241m<\u001b[39m\u001b[38;5;241m=\u001b[39m code \u001b[38;5;241m<\u001b[39m \u001b[38;5;241m300\u001b[39m):\n\u001b[1;32m--> 630\u001b[0m     response \u001b[38;5;241m=\u001b[39m \u001b[38;5;28mself\u001b[39m\u001b[38;5;241m.\u001b[39mparent\u001b[38;5;241m.\u001b[39merror(\n\u001b[0;32m    631\u001b[0m         \u001b[38;5;124m'\u001b[39m\u001b[38;5;124mhttp\u001b[39m\u001b[38;5;124m'\u001b[39m, request, response, code, msg, hdrs)\n\u001b[0;32m    633\u001b[0m \u001b[38;5;28;01mreturn\u001b[39;00m response\n",
      "File \u001b[1;32m~\\anaconda3\\Lib\\urllib\\request.py:559\u001b[0m, in \u001b[0;36mOpenerDirector.error\u001b[1;34m(self, proto, *args)\u001b[0m\n\u001b[0;32m    558\u001b[0m args \u001b[38;5;241m=\u001b[39m (\u001b[38;5;28mdict\u001b[39m, \u001b[38;5;124m'\u001b[39m\u001b[38;5;124mdefault\u001b[39m\u001b[38;5;124m'\u001b[39m, \u001b[38;5;124m'\u001b[39m\u001b[38;5;124mhttp_error_default\u001b[39m\u001b[38;5;124m'\u001b[39m) \u001b[38;5;241m+\u001b[39m orig_args\n\u001b[1;32m--> 559\u001b[0m \u001b[38;5;28;01mreturn\u001b[39;00m \u001b[38;5;28mself\u001b[39m\u001b[38;5;241m.\u001b[39m_call_chain(\u001b[38;5;241m*\u001b[39margs)\n",
      "File \u001b[1;32m~\\anaconda3\\Lib\\urllib\\request.py:492\u001b[0m, in \u001b[0;36mOpenerDirector._call_chain\u001b[1;34m(self, chain, kind, meth_name, *args)\u001b[0m\n\u001b[0;32m    491\u001b[0m func \u001b[38;5;241m=\u001b[39m \u001b[38;5;28mgetattr\u001b[39m(handler, meth_name)\n\u001b[1;32m--> 492\u001b[0m result \u001b[38;5;241m=\u001b[39m func(\u001b[38;5;241m*\u001b[39margs)\n\u001b[0;32m    493\u001b[0m \u001b[38;5;28;01mif\u001b[39;00m result \u001b[38;5;129;01mis\u001b[39;00m \u001b[38;5;129;01mnot\u001b[39;00m \u001b[38;5;28;01mNone\u001b[39;00m:\n",
      "File \u001b[1;32m~\\anaconda3\\Lib\\urllib\\request.py:639\u001b[0m, in \u001b[0;36mHTTPDefaultErrorHandler.http_error_default\u001b[1;34m(self, req, fp, code, msg, hdrs)\u001b[0m\n\u001b[0;32m    638\u001b[0m \u001b[38;5;28;01mdef\u001b[39;00m \u001b[38;5;21mhttp_error_default\u001b[39m(\u001b[38;5;28mself\u001b[39m, req, fp, code, msg, hdrs):\n\u001b[1;32m--> 639\u001b[0m     \u001b[38;5;28;01mraise\u001b[39;00m HTTPError(req\u001b[38;5;241m.\u001b[39mfull_url, code, msg, hdrs, fp)\n",
      "\u001b[1;31mHTTPError\u001b[0m: HTTP Error 404: Not Found",
      "\nThe above exception was the direct cause of the following exception:\n",
      "\u001b[1;31mURLError\u001b[0m                                  Traceback (most recent call last)",
      "Cell \u001b[1;32mIn[17], line 2\u001b[0m\n\u001b[0;32m      1\u001b[0m \u001b[38;5;66;03m# HI data reprojected onto dust data\u001b[39;00m\n\u001b[1;32m----> 2\u001b[0m HI \u001b[38;5;241m=\u001b[39m fits\u001b[38;5;241m.\u001b[39mopen(get_pkg_data_filename(\u001b[38;5;124m'\u001b[39m\u001b[38;5;124mHI_file.fits\u001b[39m\u001b[38;5;124m'\u001b[39m))[\u001b[38;5;241m0\u001b[39m]\n\u001b[0;32m      3\u001b[0m Dust \u001b[38;5;241m=\u001b[39m fits\u001b[38;5;241m.\u001b[39mopen(get_pkg_data_filename(\u001b[38;5;124m'\u001b[39m\u001b[38;5;124mdust_file.fits\u001b[39m\u001b[38;5;124m'\u001b[39m))[\u001b[38;5;241m0\u001b[39m]\n\u001b[0;32m      5\u001b[0m array1, footprint \u001b[38;5;241m=\u001b[39m reproject_interp(HI, Dust\u001b[38;5;241m.\u001b[39mheader) \u001b[38;5;66;03m#Reproject HI map onto dust map\u001b[39;00m\n",
      "File \u001b[1;32m~\\anaconda3\\Lib\\site-packages\\astropy\\utils\\data.py:754\u001b[0m, in \u001b[0;36mget_pkg_data_filename\u001b[1;34m(data_name, package, show_progress, remote_timeout)\u001b[0m\n\u001b[0;32m    752\u001b[0m     \u001b[38;5;28;01mreturn\u001b[39;00m datafn\n\u001b[0;32m    753\u001b[0m \u001b[38;5;28;01melse\u001b[39;00m:  \u001b[38;5;66;03m# remote file\u001b[39;00m\n\u001b[1;32m--> 754\u001b[0m     \u001b[38;5;28;01mreturn\u001b[39;00m download_file(\n\u001b[0;32m    755\u001b[0m         conf\u001b[38;5;241m.\u001b[39mdataurl \u001b[38;5;241m+\u001b[39m data_name,\n\u001b[0;32m    756\u001b[0m         cache\u001b[38;5;241m=\u001b[39m\u001b[38;5;28;01mTrue\u001b[39;00m,\n\u001b[0;32m    757\u001b[0m         show_progress\u001b[38;5;241m=\u001b[39mshow_progress,\n\u001b[0;32m    758\u001b[0m         timeout\u001b[38;5;241m=\u001b[39mremote_timeout,\n\u001b[0;32m    759\u001b[0m         sources\u001b[38;5;241m=\u001b[39m[conf\u001b[38;5;241m.\u001b[39mdataurl \u001b[38;5;241m+\u001b[39m data_name, conf\u001b[38;5;241m.\u001b[39mdataurl_mirror \u001b[38;5;241m+\u001b[39m data_name],\n\u001b[0;32m    760\u001b[0m     )\n",
      "File \u001b[1;32m~\\anaconda3\\Lib\\site-packages\\astropy\\utils\\data.py:1565\u001b[0m, in \u001b[0;36mdownload_file\u001b[1;34m(remote_url, cache, show_progress, timeout, sources, pkgname, http_headers, ssl_context, allow_insecure)\u001b[0m\n\u001b[0;32m   1563\u001b[0m         \u001b[38;5;28;01mraise\u001b[39;00m errors[sources[\u001b[38;5;241m0\u001b[39m]]\n\u001b[0;32m   1564\u001b[0m     \u001b[38;5;28;01melse\u001b[39;00m:\n\u001b[1;32m-> 1565\u001b[0m         \u001b[38;5;28;01mraise\u001b[39;00m urllib\u001b[38;5;241m.\u001b[39merror\u001b[38;5;241m.\u001b[39mURLError(\n\u001b[0;32m   1566\u001b[0m             \u001b[38;5;124mf\u001b[39m\u001b[38;5;124m\"\u001b[39m\u001b[38;5;124mUnable to open any source! Exceptions were \u001b[39m\u001b[38;5;132;01m{\u001b[39;00merrors\u001b[38;5;132;01m}\u001b[39;00m\u001b[38;5;124m\"\u001b[39m\n\u001b[0;32m   1567\u001b[0m         ) \u001b[38;5;28;01mfrom\u001b[39;00m \u001b[38;5;21;01merrors\u001b[39;00m[sources[\u001b[38;5;241m0\u001b[39m]]\n\u001b[0;32m   1569\u001b[0m \u001b[38;5;28;01mif\u001b[39;00m cache:\n\u001b[0;32m   1570\u001b[0m     \u001b[38;5;28;01mtry\u001b[39;00m:\n",
      "\u001b[1;31mURLError\u001b[0m: <urlopen error Unable to open any source! Exceptions were {'http://data.astropy.org/HI_file.fits': <HTTPError 404: 'Not Found'>, 'http://www.astropy.org/astropy-data/HI_file.fits': <HTTPError 404: 'Not Found'>}>"
     ]
    }
   ],
   "source": [
    "# HI data reprojected onto dust data\n",
    "HI = fits.open(get_pkg_data_filename('HI_file.fits'))[0]\n",
    "Dust = fits.open(get_pkg_data_filename('dust_file.fits'))[0]\n",
    "\n",
    "array1, footprint = reproject_interp(HI, Dust.header) #Reproject HI map onto dust map\n",
    "\n",
    "ax2 = plt.subplot(1,3,2, projection=WCS(Dust.header))\n",
    "ax2.imshow(array1, origin='lower', vmin=0, vmax=2e21, cmap='twilight_shifted')\n",
    "ax2.set_title('HI_Map')\n",
    "\n",
    "ax3 = plt.subplot(1,3,3, projection=WCS(Dust.header))\n",
    "ax3.imshow(Dust.data, origin='lower', vmin=0.2e22, vmax=1.6e22, cmap='twilight_shifted')\n",
    "ax3.set_title('Dust_Map')\n",
    "\n",
    "plt.tight_layout(pad=0)\n",
    "\n",
    "fits.writeto('output_file.fits', data=array1, header=Dust.header, overwrite=True) #Exported to its own fits file\n",
    "\n",
    "print(footprint.shape) #This shows that everything is the same shape, meaning that reprojection was successful\n",
    "print(Dust.data.shape)\n",
    "print(array1.shape)"
   ]
  },
  {
   "cell_type": "code",
   "execution_count": null,
   "id": "4563d84f-26bc-4cb4-a56a-00d2a0704c1c",
   "metadata": {},
   "outputs": [],
   "source": [
    "# Reproject CO data onto dust data\n",
    "CO = fits.open(get_pkg_data_filename('CO_file.fits'))[0]\n",
    "Dust = fits.open(get_pkg_data_filename('Dust_file.fits'))[0]\n",
    "\n",
    "# Reproject CO map onto dust map\n",
    "array2, footprint = reproject_interp(CO, Dust.header)\n",
    "\n",
    "ax2 = plt.subplot(1,3,2, projection=WCS(Dust.header))\n",
    "ax2.imshow(array2*2, origin='lower', vmin=0, vmax=8e21, cmap='twilight_shifted')\n",
    "ax2.set_title('CO_Map')\n",
    "\n",
    "ax3 = plt.subplot(1,3,3, projection=WCS(Dust.header))\n",
    "ax3.imshow(Dust.data, origin='lower', vmin=0.2e22, vmax=1.6e22, cmap='twilight_shifted')\n",
    "ax3.set_title('Dust_Map')\n",
    "\n",
    "plt.tight_layout(pad=0)\n",
    "\n",
    "#Exported to its own fits file\n",
    "fits.writeto('output_file.fits', data=array2, header=Dust.header, overwrite=True) \n",
    "\n",
    "print(footprint.shape)\n",
    "print(Dust.data.shape)\n",
    "print(array2.shape)"
   ]
  },
  {
   "cell_type": "code",
   "execution_count": null,
   "id": "be1335e3-e8ed-455d-9dd5-05714f145a7d",
   "metadata": {},
   "outputs": [],
   "source": []
  }
 ],
 "metadata": {
  "kernelspec": {
   "display_name": "Python 3 (ipykernel)",
   "language": "python",
   "name": "python3"
  },
  "language_info": {
   "codemirror_mode": {
    "name": "ipython",
    "version": 3
   },
   "file_extension": ".py",
   "mimetype": "text/x-python",
   "name": "python",
   "nbconvert_exporter": "python",
   "pygments_lexer": "ipython3",
   "version": "3.12.4"
  }
 },
 "nbformat": 4,
 "nbformat_minor": 5
}
