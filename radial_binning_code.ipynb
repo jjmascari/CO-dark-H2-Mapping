{
 "cells": [
  {
   "cell_type": "code",
   "execution_count": 3,
   "id": "938575d2-cbc7-4e60-87f9-c4f658209b0d",
   "metadata": {},
   "outputs": [],
   "source": [
    "import numpy as np"
   ]
  },
  {
   "cell_type": "code",
   "execution_count": 1,
   "id": "73584b29-416e-4982-a1de-a361d3d26850",
   "metadata": {},
   "outputs": [],
   "source": [
    "# radial binning function with standard deviation\n",
    "def radial_bins_std(r_grid, data, bin_edges):\n",
    "    bin_centers = []\n",
    "    bin_means = []\n",
    "    bin_stds = []\n",
    "    for i in range(len(bin_edges) - 1):\n",
    "        in_bin = (r_grid >= bin_edges[i]) & (r_grid < bin_edges[i+1])\n",
    "        if np.any(in_bin):\n",
    "            bin_centers.append(0.5*(bin_edges[i]+bin_edges[i+1]))\n",
    "            bin_means.append(np.nanmedian(data[in_bin]))\n",
    "            bin_stds.append(np.nanstd(data[in_bin]))\n",
    "    return np.array(bin_centers), np.array(bin_means), np.array(bin_stds)\n",
    "\n",
    "# standard radial binning function \n",
    "def radial_bins(r_grid, data, bin_edges):\n",
    "    bin_centers = []\n",
    "    bin_means = []\n",
    "    for i in range(len(bin_edges) - 1):\n",
    "        in_bin = (r_grid >= bin_edges[i]) & (r_grid < bin_edges[i+1])\n",
    "        if np.any(in_bin):\n",
    "            bin_centers.append(0.5*(bin_edges[i]+bin_edges[i+1]))\n",
    "            bin_means.append(np.nanmedian(data[in_bin]))\n",
    "    return np.array(bin_centers), np.array(bin_means)"
   ]
  },
  {
   "cell_type": "code",
   "execution_count": null,
   "id": "ceb6593e-8838-4c84-851e-8eaa84c1c3c6",
   "metadata": {},
   "outputs": [],
   "source": []
  }
 ],
 "metadata": {
  "kernelspec": {
   "display_name": "Python 3 (ipykernel)",
   "language": "python",
   "name": "python3"
  },
  "language_info": {
   "codemirror_mode": {
    "name": "ipython",
    "version": 3
   },
   "file_extension": ".py",
   "mimetype": "text/x-python",
   "name": "python",
   "nbconvert_exporter": "python",
   "pygments_lexer": "ipython3",
   "version": "3.12.4"
  }
 },
 "nbformat": 4,
 "nbformat_minor": 5
}
