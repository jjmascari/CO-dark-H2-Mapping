{
 "cells": [
  {
   "cell_type": "code",
   "execution_count": null,
   "id": "e757457f-58b1-4d98-ad92-3a8b8cf9f01e",
   "metadata": {},
   "outputs": [],
   "source": [
    "from reproject import reproject_interp\n",
    "from astropy.io import fits\n",
    "import matplotlib.pyplot as plt\n",
    "from astropy.io import ascii\n",
    "from astropy import wcs\n",
    "from astropy.utils.data import get_pkg_data_filename"
   ]
  },
  {
   "cell_type": "code",
   "execution_count": null,
   "id": "a588055d-69cd-44b0-ae85-d782295e0b3b",
   "metadata": {},
   "outputs": [],
   "source": [
    "# HI data reprojected onto dust data\n",
    "HI = fits.open(get_pkg_data_filename('HI_file.fits'))[0]\n",
    "Dust = fits.open(get_pkg_data_filename('dust_file.fits'))[0]\n",
    "\n",
    "array1, footprint = reproject_interp(HI, Dust.header) #Reproject HI map onto dust map\n",
    "\n",
    "ax2 = plt.subplot(1,3,2, projection=WCS(Dust.header))\n",
    "ax2.imshow(array1, origin='lower', vmin=0, vmax=2e21, cmap='twilight_shifted')\n",
    "ax2.set_title('HI_Map')\n",
    "\n",
    "ax3 = plt.subplot(1,3,3, projection=WCS(Dust.header))\n",
    "ax3.imshow(Dust.data, origin='lower', vmin=0.2e22, vmax=1.6e22, cmap='twilight_shifted')\n",
    "ax3.set_title('Dust_Map')\n",
    "\n",
    "plt.tight_layout(pad=0)\n",
    "\n",
    "fits.writeto('output_file.fits', data=array1, header=Dust.header, overwrite=True) #Exported to its own fits file\n",
    "\n",
    "print(footprint.shape) #This shows that everything is the same shape, meaning that reprojection was successful\n",
    "print(Dust.data.shape)\n",
    "print(array1.shape)"
   ]
  },
  {
   "cell_type": "code",
   "execution_count": null,
   "id": "4563d84f-26bc-4cb4-a56a-00d2a0704c1c",
   "metadata": {},
   "outputs": [],
   "source": [
    "# Reproject CO data onto dust data\n",
    "CO = fits.open(get_pkg_data_filename('CO_file.fits'))[0]\n",
    "Dust = fits.open(get_pkg_data_filename('Dust_file.fits'))[0]\n",
    "\n",
    "# Reproject CO map onto dust map\n",
    "array2, footprint = reproject_interp(CO, Dust.header)\n",
    "\n",
    "ax2 = plt.subplot(1,3,2, projection=WCS(Dust.header))\n",
    "ax2.imshow(array2*2, origin='lower', vmin=0, vmax=8e21, cmap='twilight_shifted')\n",
    "ax2.set_title('CO_Map')\n",
    "\n",
    "ax3 = plt.subplot(1,3,3, projection=WCS(Dust.header))\n",
    "ax3.imshow(Dust.data, origin='lower', vmin=0.2e22, vmax=1.6e22, cmap='twilight_shifted')\n",
    "ax3.set_title('Dust_Map')\n",
    "\n",
    "plt.tight_layout(pad=0)\n",
    "\n",
    "#Exported to its own fits file\n",
    "fits.writeto('output_file.fits', data=array2, header=Dust.header, overwrite=True) \n",
    "\n",
    "print(footprint.shape)\n",
    "print(Dust.data.shape)\n",
    "print(array2.shape)"
   ]
  },
  {
   "cell_type": "code",
   "execution_count": null,
   "id": "be1335e3-e8ed-455d-9dd5-05714f145a7d",
   "metadata": {},
   "outputs": [],
   "source": []
  }
 ],
 "metadata": {
  "kernelspec": {
   "display_name": "Python 3 (ipykernel)",
   "language": "python",
   "name": "python3"
  },
  "language_info": {
   "codemirror_mode": {
    "name": "ipython",
    "version": 3
   },
   "file_extension": ".py",
   "mimetype": "text/x-python",
   "name": "python",
   "nbconvert_exporter": "python",
   "pygments_lexer": "ipython3",
   "version": "3.12.4"
  }
 },
 "nbformat": 4,
 "nbformat_minor": 5
}
